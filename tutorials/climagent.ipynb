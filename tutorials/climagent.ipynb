{
 "cells": [
  {
   "cell_type": "markdown",
   "metadata": {},
   "source": [
    "# ClimAgent quick start"
   ]
  },
  {
   "cell_type": "code",
   "execution_count": null,
   "metadata": {},
   "outputs": [],
   "source": [
    "from climagent.agent.climagent import ClimAgent\n",
    "from langchain_core.messages import HumanMessage\n",
    "from langchain_openai import AzureChatOpenAI\n",
    "import os\n",
    "from dotenv import load_dotenv\n",
    "import xarray as xr\n",
    "\n",
    "load_dotenv(\"../credentials.env\")"
   ]
  },
  {
   "cell_type": "code",
   "execution_count": null,
   "metadata": {},
   "outputs": [],
   "source": [
    "# Initialize LLM\n",
    "llm = AzureChatOpenAI(\n",
    "    deployment_name=os.getenv(\"GPT_DEPLOYMENT_NAME\"),\n",
    "    openai_api_version=os.getenv(\"OPENAI_API_VERSION\"),\n",
    "    openai_api_key=os.getenv(\"OPENAI_API_KEY\"),\n",
    "    azure_endpoint=os.getenv(\"AZURE_ENDPOINT\"),\n",
    "    temperature=0,\n",
    ")"
   ]
  },
  {
   "cell_type": "code",
   "execution_count": null,
   "metadata": {},
   "outputs": [],
   "source": [
    "dataset_path = \"/Users/jacopograssi/Downloads/2ccc4e1b59f4ec5c4cd6cb396d626557/24_extreme_wind_speed_days-projections-yearly-rcp_8_5-cclm4_8_17-mpi_esm_lr-r1i1p1-grid-v1.0.nc\""
   ]
  },
  {
   "cell_type": "code",
   "execution_count": null,
   "metadata": {},
   "outputs": [],
   "source": [
    "agent = ClimAgent(dataset_path, llm)\n",
    "\n",
    "query: str = (\n",
    "    \"I would like you to perform the following operations on the input dataset:\\n\"\n",
    "    \"1. Select the coordinates of Rome in the dataset.\\n\"\n",
    "    \"2. Select the optimistic scenario.\\n\"\n",
    "    #\"3. Group the data every 10 years.\\n\"\n",
    "    \"Then, I would like to know ho I can use the variables contained in the dataset to perform a climate change risk assessment.\"\n",
    ")\n",
    "\n",
    "\n",
    "query: str = (\"Describe the dataset. Waht does the variable describe? Please describe it for a non-expert audience.\")\n",
    "\n",
    "messages = [HumanMessage(query)]\n",
    "response, mod_dataset = agent.run(messages)"
   ]
  },
  {
   "cell_type": "code",
   "execution_count": null,
   "metadata": {},
   "outputs": [],
   "source": [
    "print(response['messages'][-1].content)"
   ]
  },
  {
   "cell_type": "code",
   "execution_count": null,
   "metadata": {},
   "outputs": [],
   "source": [
    "agent.dataset_state.dataset.data"
   ]
  }
 ],
 "metadata": {
  "kernelspec": {
   "display_name": "climagent",
   "language": "python",
   "name": "python3"
  },
  "language_info": {
   "codemirror_mode": {
    "name": "ipython",
    "version": 3
   },
   "file_extension": ".py",
   "mimetype": "text/x-python",
   "name": "python",
   "nbconvert_exporter": "python",
   "pygments_lexer": "ipython3",
   "version": "3.13.2"
  }
 },
 "nbformat": 4,
 "nbformat_minor": 2
}
